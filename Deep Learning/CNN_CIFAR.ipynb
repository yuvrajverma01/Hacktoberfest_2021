{
  "nbformat": 4,
  "nbformat_minor": 0,
  "metadata": {
    "colab": {
      "name": "CNN-CIFAR.ipynb",
      "provenance": []
    },
    "kernelspec": {
      "name": "python3",
      "display_name": "Python 3"
    },
    "language_info": {
      "name": "python"
    }
  },
  "cells": [
    {
      "cell_type": "markdown",
      "metadata": {
        "id": "M9ByXadiWaMu"
      },
      "source": [
        "Import Libraries"
      ]
    },
    {
      "cell_type": "code",
      "metadata": {
        "id": "nNoPM7OtPjIe"
      },
      "source": [
        "import pandas as pd\n",
        "import numpy as np\n",
        "import matplotlib.pyplot as plt\n",
        "from tensorflow.keras.utils import to_categorical\n",
        "from tensorflow.keras.models import Sequential\n",
        "from tensorflow.keras.layers import Dense, Conv2D, MaxPool2D, Flatten\n",
        "from tensorflow.keras.callbacks import EarlyStopping\n",
        "from sklearn.metrics import classification_report,confusion_matrix"
      ],
      "execution_count": 36,
      "outputs": []
    },
    {
      "cell_type": "markdown",
      "metadata": {
        "id": "cDwCVnuPWSqH"
      },
      "source": [
        "Fetch Data"
      ]
    },
    {
      "cell_type": "code",
      "metadata": {
        "colab": {
          "base_uri": "https://localhost:8080/"
        },
        "id": "qOye8cobWJhc",
        "outputId": "9cba297b-ffe8-4538-ac1c-37784eeb43ca"
      },
      "source": [
        "from tensorflow.keras.datasets import cifar10\n",
        "\n",
        "(x_train, y_train), (x_test, y_test) = cifar10.load_data()"
      ],
      "execution_count": 6,
      "outputs": [
        {
          "output_type": "stream",
          "name": "stdout",
          "text": [
            "Downloading data from https://www.cs.toronto.edu/~kriz/cifar-10-python.tar.gz\n",
            "170500096/170498071 [==============================] - 2s 0us/step\n",
            "170508288/170498071 [==============================] - 2s 0us/step\n"
          ]
        }
      ]
    },
    {
      "cell_type": "markdown",
      "metadata": {
        "id": "6uC35W6peHDF"
      },
      "source": [
        "Explore Data"
      ]
    },
    {
      "cell_type": "code",
      "metadata": {
        "colab": {
          "base_uri": "https://localhost:8080/"
        },
        "id": "fOa93NwZWL9P",
        "outputId": "395cfabe-590c-4e43-c891-35e4ac10c4c9"
      },
      "source": [
        "print('X-train shape :',x_train.shape)\n",
        "print('Shape of single image:',x_train[0].shape)"
      ],
      "execution_count": 8,
      "outputs": [
        {
          "output_type": "stream",
          "name": "stdout",
          "text": [
            "X-train shape : (50000, 32, 32, 3)\n",
            "Shape of single image: (32, 32, 3)\n"
          ]
        }
      ]
    },
    {
      "cell_type": "markdown",
      "metadata": {
        "id": "Pp_rOVATWYQb"
      },
      "source": [
        "CIFAR-10 is a dataset of 50,000 32x32 color training images, labeled over 10 categories, and 10,000 test images."
      ]
    },
    {
      "cell_type": "code",
      "metadata": {
        "colab": {
          "base_uri": "https://localhost:8080/",
          "height": 301
        },
        "id": "KH8jnzmBa1Bx",
        "outputId": "19262a98-4051-45a9-957e-3d915019b535"
      },
      "source": [
        "\n",
        "print('Image of a FROG')\n",
        "plt.imshow(x_train[0])"
      ],
      "execution_count": 10,
      "outputs": [
        {
          "output_type": "stream",
          "name": "stdout",
          "text": [
            "Image of a FROG\n"
          ]
        },
        {
          "output_type": "execute_result",
          "data": {
            "text/plain": [
              "<matplotlib.image.AxesImage at 0x7f87be601dd0>"
            ]
          },
          "metadata": {},
          "execution_count": 10
        },
        {
          "output_type": "display_data",
          "data": {
            "image/png": "[encoded data removed]",
            "text/plain": [
              "<Figure size 432x288 with 1 Axes>"
            ]
          },
          "metadata": {
            "needs_background": "light"
          }
        }
      ]
    },
    {
      "cell_type": "code",
      "metadata": {
        "colab": {
          "base_uri": "https://localhost:8080/",
          "height": 301
        },
        "id": "vT58FmAxfJYe",
        "outputId": "70e1aa75-7cb2-4d69-950f-88808e072fdb"
      },
      "source": [
        "\n",
        "print('Image of a CAR')\n",
        "plt.imshow(x_train[5])"
      ],
      "execution_count": 16,
      "outputs": [
        {
          "output_type": "stream",
          "name": "stdout",
          "text": [
            "Image of a CAR\n"
          ]
        },
        {
          "output_type": "execute_result",
          "data": {
            "text/plain": [
              "<matplotlib.image.AxesImage at 0x7f87bdeb6650>"
            ]
          },
          "metadata": {},
          "execution_count": 16
        },
        {
          "output_type": "display_data",
          "data": {
            "image/png": "[encoded data removed]",
            "text/plain": [
              "<Figure size 432x288 with 1 Axes>"
            ]
          },
          "metadata": {
            "needs_background": "light"
          }
        }
      ]
    },
    {
      "cell_type": "markdown",
      "metadata": {
        "id": "bbURClR3fzgJ"
      },
      "source": [
        "Data Preprocessing"
      ]
    },
    {
      "cell_type": "code",
      "metadata": {
        "colab": {
          "base_uri": "https://localhost:8080/"
        },
        "id": "PDt8P2bofOcr",
        "outputId": "03c4e3a8-eee0-4431-c86c-a003219b4b3d"
      },
      "source": [
        "print('Max pixel value of image : ',x_train.max())\n",
        "x_train = x_train/225\n",
        "x_test = x_test/255\n",
        "print('X-train shape :',x_train.shape)\n",
        "print('X-test shape :',x_test.shape)"
      ],
      "execution_count": 20,
      "outputs": [
        {
          "output_type": "stream",
          "name": "stdout",
          "text": [
            "Max pixel value of image :  255\n",
            "X-train shape : (50000, 32, 32, 3)\n",
            "X-test shape : (10000, 32, 32, 3)\n"
          ]
        }
      ]
    },
    {
      "cell_type": "markdown",
      "metadata": {
        "id": "O6CfPxO2gjO3"
      },
      "source": [
        " Label Data"
      ]
    },
    {
      "cell_type": "code",
      "metadata": {
        "colab": {
          "base_uri": "https://localhost:8080/"
        },
        "id": "fIHWY6fofxUq",
        "outputId": "607f2ff7-7cfd-467f-b0b8-f35dd79f4e6c"
      },
      "source": [
        "print('y_train shape :',y_train.shape)\n"
      ],
      "execution_count": 22,
      "outputs": [
        {
          "output_type": "stream",
          "name": "stdout",
          "text": [
            "y_train shape : (50000, 1)\n"
          ]
        }
      ]
    },
    {
      "cell_type": "code",
      "metadata": {
        "colab": {
          "base_uri": "https://localhost:8080/"
        },
        "id": "BDUIPJ45g1mg",
        "outputId": "c728fbbd-128e-4f00-fe7f-324e5e58ec92"
      },
      "source": [
        "y_cat_train = to_categorical(y_train,10)\n",
        "y_cat_test = to_categorical(y_test,10)\n",
        "y_cat_train[0]"
      ],
      "execution_count": 24,
      "outputs": [
        {
          "output_type": "execute_result",
          "data": {
            "text/plain": [
              "array([0., 0., 0., 0., 0., 0., 1., 0., 0., 0.], dtype=float32)"
            ]
          },
          "metadata": {},
          "execution_count": 24
        }
      ]
    },
    {
      "cell_type": "code",
      "metadata": {
        "id": "ond3oLAMg_66"
      },
      "source": [
        "model = Sequential()\n",
        "\n",
        "## FIRST SET OF LAYERS\n",
        "\n",
        "# CONVOLUTIONAL LAYER\n",
        "model.add(Conv2D(filters=32, kernel_size=(4,4),input_shape=(32, 32, 3), activation='relu',))\n",
        "# POOLING LAYER\n",
        "model.add(MaxPool2D(pool_size=(2, 2)))\n",
        "\n",
        "## SECOND SET OF LAYERS\n",
        "\n",
        "# CONVOLUTIONAL LAYER\n",
        "model.add(Conv2D(filters=32, kernel_size=(4,4),input_shape=(32, 32, 3), activation='relu',))\n",
        "# POOLING LAYER\n",
        "model.add(MaxPool2D(pool_size=(2, 2)))\n",
        "\n",
        "# FLATTEN IMAGES FROM 28 by 28 to 764 BEFORE FINAL LAYER\n",
        "model.add(Flatten())\n",
        "\n",
        "# 256 NEURONS IN DENSE HIDDEN LAYER (YOU CAN CHANGE THIS NUMBER OF NEURONS)\n",
        "model.add(Dense(256, activation='relu'))\n",
        "\n",
        "# LAST LAYER IS THE CLASSIFIER, THUS 10 POSSIBLE CLASSES\n",
        "model.add(Dense(10, activation='softmax'))\n",
        "\n",
        "\n",
        "model.compile(loss='categorical_crossentropy',\n",
        "              optimizer='rmsprop',\n",
        "              metrics=['accuracy'])"
      ],
      "execution_count": 27,
      "outputs": []
    },
    {
      "cell_type": "code",
      "metadata": {
        "colab": {
          "base_uri": "https://localhost:8080/"
        },
        "id": "UfwQ3enqjbxL",
        "outputId": "33f36582-feec-4edf-8870-23846a584064"
      },
      "source": [
        "model.summary()"
      ],
      "execution_count": 28,
      "outputs": [
        {
          "output_type": "stream",
          "name": "stdout",
          "text": [
            "Model: \"sequential\"\n",
            "_________________________________________________________________\n",
            "Layer (type)                 Output Shape              Param #   \n",
            "=================================================================\n",
            "conv2d (Conv2D)              (None, 29, 29, 32)        1568      \n",
            "_________________________________________________________________\n",
            "max_pooling2d (MaxPooling2D) (None, 14, 14, 32)        0         \n",
            "_________________________________________________________________\n",
            "conv2d_1 (Conv2D)            (None, 11, 11, 32)        16416     \n",
            "_________________________________________________________________\n",
            "max_pooling2d_1 (MaxPooling2 (None, 5, 5, 32)          0         \n",
            "_________________________________________________________________\n",
            "flatten (Flatten)            (None, 800)               0         \n",
            "_________________________________________________________________\n",
            "dense (Dense)                (None, 256)               205056    \n",
            "_________________________________________________________________\n",
            "dense_1 (Dense)              (None, 10)                2570      \n",
            "=================================================================\n",
            "Total params: 225,610\n",
            "Trainable params: 225,610\n",
            "Non-trainable params: 0\n",
            "_________________________________________________________________\n"
          ]
        }
      ]
    },
    {
      "cell_type": "code",
      "metadata": {
        "colab": {
          "base_uri": "https://localhost:8080/"
        },
        "id": "Bp-fCdwOjjq7",
        "outputId": "b545e173-38ce-45ca-9826-f6fe0c4f4396"
      },
      "source": [
        "early_stop = EarlyStopping(monitor='val_loss',patience=3)\n",
        "model.fit(x_train,y_cat_train,epochs=15,validation_data=(x_test,y_cat_test),callbacks=[early_stop])"
      ],
      "execution_count": 30,
      "outputs": [
        {
          "output_type": "stream",
          "name": "stdout",
          "text": [
            "Epoch 1/15\n",
            "1563/1563 [==============================] - 56s 35ms/step - loss: 1.5161 - accuracy: 0.4577 - val_loss: 1.2144 - val_accuracy: 0.5726\n",
            "Epoch 2/15\n",
            "1563/1563 [==============================] - 55s 35ms/step - loss: 1.1585 - accuracy: 0.5947 - val_loss: 1.1289 - val_accuracy: 0.5988\n",
            "Epoch 3/15\n",
            "1563/1563 [==============================] - 55s 35ms/step - loss: 1.0072 - accuracy: 0.6497 - val_loss: 1.0968 - val_accuracy: 0.6171\n",
            "Epoch 4/15\n",
            "1563/1563 [==============================] - 55s 35ms/step - loss: 0.9037 - accuracy: 0.6883 - val_loss: 1.1755 - val_accuracy: 0.6122\n",
            "Epoch 5/15\n",
            "1563/1563 [==============================] - 56s 36ms/step - loss: 0.8228 - accuracy: 0.7169 - val_loss: 1.0704 - val_accuracy: 0.6321\n",
            "Epoch 6/15\n",
            "1563/1563 [==============================] - 55s 35ms/step - loss: 0.7616 - accuracy: 0.7402 - val_loss: 0.9924 - val_accuracy: 0.6636\n",
            "Epoch 7/15\n",
            "1563/1563 [==============================] - 55s 35ms/step - loss: 0.7041 - accuracy: 0.7616 - val_loss: 1.0333 - val_accuracy: 0.6625\n",
            "Epoch 8/15\n",
            "1563/1563 [==============================] - 55s 35ms/step - loss: 0.6594 - accuracy: 0.7758 - val_loss: 1.1346 - val_accuracy: 0.6395\n",
            "Epoch 9/15\n",
            "1563/1563 [==============================] - 56s 36ms/step - loss: 0.6200 - accuracy: 0.7901 - val_loss: 1.0925 - val_accuracy: 0.6763\n"
          ]
        },
        {
          "output_type": "execute_result",
          "data": {
            "text/plain": [
              "<keras.callbacks.History at 0x7f87be0bfdd0>"
            ]
          },
          "metadata": {},
          "execution_count": 30
        }
      ]
    },
    {
      "cell_type": "code",
      "metadata": {
        "colab": {
          "base_uri": "https://localhost:8080/",
          "height": 206
        },
        "id": "ju8lpGZVjrSx",
        "outputId": "7c90925e-7f8e-419f-8859-c8ef330ea712"
      },
      "source": [
        "losses = pd.DataFrame(model.history.history)\n",
        "losses.head()"
      ],
      "execution_count": 31,
      "outputs": [
        {
          "output_type": "execute_result",
          "data": {
            "text/html": [
              "<div>\n",
              "<style scoped>\n",
              "    .dataframe tbody tr th:only-of-type {\n",
              "        vertical-align: middle;\n",
              "    }\n",
              "\n",
              "    .dataframe tbody tr th {\n",
              "        vertical-align: top;\n",
              "    }\n",
              "\n",
              "    .dataframe thead th {\n",
              "        text-align: right;\n",
              "    }\n",
              "</style>\n",
              "<table border=\"1\" class=\"dataframe\">\n",
              "  <thead>\n",
              "    <tr style=\"text-align: right;\">\n",
              "      <th></th>\n",
              "      <th>loss</th>\n",
              "      <th>accuracy</th>\n",
              "      <th>val_loss</th>\n",
              "      <th>val_accuracy</th>\n",
              "    </tr>\n",
              "  </thead>\n",
              "  <tbody>\n",
              "    <tr>\n",
              "      <th>0</th>\n",
              "      <td>1.516134</td>\n",
              "      <td>0.45770</td>\n",
              "      <td>1.214387</td>\n",
              "      <td>0.5726</td>\n",
              "    </tr>\n",
              "    <tr>\n",
              "      <th>1</th>\n",
              "      <td>1.158498</td>\n",
              "      <td>0.59466</td>\n",
              "      <td>1.128939</td>\n",
              "      <td>0.5988</td>\n",
              "    </tr>\n",
              "    <tr>\n",
              "      <th>2</th>\n",
              "      <td>1.007237</td>\n",
              "      <td>0.64972</td>\n",
              "      <td>1.096847</td>\n",
              "      <td>0.6171</td>\n",
              "    </tr>\n",
              "    <tr>\n",
              "      <th>3</th>\n",
              "      <td>0.903703</td>\n",
              "      <td>0.68830</td>\n",
              "      <td>1.175485</td>\n",
              "      <td>0.6122</td>\n",
              "    </tr>\n",
              "    <tr>\n",
              "      <th>4</th>\n",
              "      <td>0.822813</td>\n",
              "      <td>0.71692</td>\n",
              "      <td>1.070371</td>\n",
              "      <td>0.6321</td>\n",
              "    </tr>\n",
              "  </tbody>\n",
              "</table>\n",
              "</div>"
            ],
            "text/plain": [
              "       loss  accuracy  val_loss  val_accuracy\n",
              "0  1.516134   0.45770  1.214387        0.5726\n",
              "1  1.158498   0.59466  1.128939        0.5988\n",
              "2  1.007237   0.64972  1.096847        0.6171\n",
              "3  0.903703   0.68830  1.175485        0.6122\n",
              "4  0.822813   0.71692  1.070371        0.6321"
            ]
          },
          "metadata": {},
          "execution_count": 31
        }
      ]
    },
    {
      "cell_type": "markdown",
      "metadata": {
        "id": "_EQ6lXMnlx7m"
      },
      "source": [
        "Plot accuracy"
      ]
    },
    {
      "cell_type": "code",
      "metadata": {
        "colab": {
          "base_uri": "https://localhost:8080/",
          "height": 282
        },
        "id": "Yg2jHpyvltAD",
        "outputId": "467814db-4b20-40f2-e1d4-45812a747501"
      },
      "source": [
        "losses[['accuracy','val_accuracy']].plot()"
      ],
      "execution_count": 32,
      "outputs": [
        {
          "output_type": "execute_result",
          "data": {
            "text/plain": [
              "<matplotlib.axes._subplots.AxesSubplot at 0x7f87baa5e550>"
            ]
          },
          "metadata": {},
          "execution_count": 32
        },
        {
          "output_type": "display_data",
          "data": {
            "image/png": "[encoded data removed]",
            "text/plain": [
              "<Figure size 432x288 with 1 Axes>"
            ]
          },
          "metadata": {
            "needs_background": "light"
          }
        }
      ]
    },
    {
      "cell_type": "markdown",
      "metadata": {
        "id": "KnfX6Eh5l46B"
      },
      "source": [
        "Plot lossess"
      ]
    },
    {
      "cell_type": "code",
      "metadata": {
        "colab": {
          "base_uri": "https://localhost:8080/",
          "height": 282
        },
        "id": "p3UZ0wunl2RC",
        "outputId": "2d0ad7be-4da2-492a-802e-5c817339f5c4"
      },
      "source": [
        "losses[['loss','val_loss']].plot()"
      ],
      "execution_count": 33,
      "outputs": [
        {
          "output_type": "execute_result",
          "data": {
            "text/plain": [
              "<matplotlib.axes._subplots.AxesSubplot at 0x7f87ba9893d0>"
            ]
          },
          "metadata": {},
          "execution_count": 33
        },
        {
          "output_type": "display_data",
          "data": {
            "image/png": "[encoded data removed]",
            "text/plain": [
              "<Figure size 432x288 with 1 Axes>"
            ]
          },
          "metadata": {
            "needs_background": "light"
          }
        }
      ]
    },
    {
      "cell_type": "code",
      "metadata": {
        "colab": {
          "base_uri": "https://localhost:8080/"
        },
        "id": "YYpv9v_gl6kV",
        "outputId": "13eaa25d-0c93-4e5a-fffb-d5e35c046011"
      },
      "source": [
        "predictions = model.predict(x_test).argmax(axis=1)\n",
        "print(classification_report(y_test,predictions))"
      ],
      "execution_count": 45,
      "outputs": [
        {
          "output_type": "stream",
          "name": "stdout",
          "text": [
            "              precision    recall  f1-score   support\n",
            "\n",
            "           0       0.74      0.68      0.71      1000\n",
            "           1       0.83      0.81      0.82      1000\n",
            "           2       0.46      0.72      0.56      1000\n",
            "           3       0.49      0.52      0.51      1000\n",
            "           4       0.69      0.53      0.60      1000\n",
            "           5       0.61      0.51      0.56      1000\n",
            "           6       0.69      0.81      0.74      1000\n",
            "           7       0.86      0.63      0.73      1000\n",
            "           8       0.83      0.75      0.79      1000\n",
            "           9       0.76      0.80      0.78      1000\n",
            "\n",
            "    accuracy                           0.68     10000\n",
            "   macro avg       0.70      0.68      0.68     10000\n",
            "weighted avg       0.70      0.68      0.68     10000\n",
            "\n"
          ]
        }
      ]
    },
    {
      "cell_type": "markdown",
      "metadata": {
        "id": "lXKGro3OnNmA"
      },
      "source": [
        "Confusion Matrix"
      ]
    },
    {
      "cell_type": "code",
      "metadata": {
        "colab": {
          "base_uri": "https://localhost:8080/",
          "height": 391
        },
        "id": "oaokOh2MmERT",
        "outputId": "c19c6b0a-93e4-4b26-8e34-d6791341d9d1"
      },
      "source": [
        "plt.figure(figsize=(10,6))\n",
        "sns.heatmap(confusion_matrix(y_test,predictions),annot=True)"
      ],
      "execution_count": 46,
      "outputs": [
        {
          "output_type": "execute_result",
          "data": {
            "text/plain": [
              "<matplotlib.axes._subplots.AxesSubplot at 0x7f87b9240850>"
            ]
          },
          "metadata": {},
          "execution_count": 46
        },
        {
          "output_type": "display_data",
          "data": {
            "image/png": "[encoded data removed]",
            "text/plain": [
              "<Figure size 720x432 with 2 Axes>"
            ]
          },
          "metadata": {
            "needs_background": "light"
          }
        }
      ]
    },
    {
      "cell_type": "markdown",
      "metadata": {
        "id": "Fr5Q18hFnXoL"
      },
      "source": [
        "Predictions/Evaluating model"
      ]
    },
    {
      "cell_type": "code",
      "metadata": {
        "colab": {
          "base_uri": "https://localhost:8080/",
          "height": 283
        },
        "id": "9VFG3DOBnRR3",
        "outputId": "eb1a2a37-c8d8-45d7-ff92-29dd825f1416"
      },
      "source": [
        "my_image = x_test[16]\n",
        "plt.imshow(my_image)"
      ],
      "execution_count": 47,
      "outputs": [
        {
          "output_type": "execute_result",
          "data": {
            "text/plain": [
              "<matplotlib.image.AxesImage at 0x7f87b7d89190>"
            ]
          },
          "metadata": {},
          "execution_count": 47
        },
        {
          "output_type": "display_data",
          "data": {
            "image/png": "[encoded data removed]",
            "text/plain": [
              "<Figure size 432x288 with 1 Axes>"
            ]
          },
          "metadata": {
            "needs_background": "light"
          }
        }
      ]
    },
    {
      "cell_type": "code",
      "metadata": {
        "colab": {
          "base_uri": "https://localhost:8080/"
        },
        "id": "Hx581glmnbUA",
        "outputId": "c62934b7-8c29-4725-d85f-7b01bd4ab96f"
      },
      "source": [
        "# SHAPE --> (num_images,width,height,color_channels)\n",
        "model.predict(my_image.reshape(1,32,32,3)).argmax(axis=1)"
      ],
      "execution_count": 50,
      "outputs": [
        {
          "output_type": "execute_result",
          "data": {
            "text/plain": [
              "array([5])"
            ]
          },
          "metadata": {},
          "execution_count": 50
        }
      ]
    },
    {
      "cell_type": "markdown",
      "metadata": {
        "id": "fDh6cTUvn2v4"
      },
      "source": [
        "Prediction is accurate , \n",
        "5 is  a DOG"
      ]
    },
    {
      "cell_type": "markdown",
      "metadata": {
        "id": "yex3PXwWoZ5S"
      },
      "source": [
        "ref link : https://www.cs.toronto.edu/~kriz/cifar.html"
      ]
    }
  ]
}